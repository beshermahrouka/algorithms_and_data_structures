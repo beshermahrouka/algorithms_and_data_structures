{
 "cells": [
  {
   "cell_type": "markdown",
   "metadata": {},
   "source": [
    "# Practice Interview\n",
    "\n",
    "## Objective\n",
    "\n",
    "_*The partner assignment aims to provide participants with the opportunity to practice coding in an interview context. You will analyze your partner's Assignment 1. Moreover, code reviews are common practice in a software development team. This assignment should give you a taste of the code review process.*_\n",
    "\n",
    "## Group Size\n",
    "\n",
    "Each group should have 2 people. You will be assigned a partner\n",
    "\n",
    "## Part 1:\n",
    "\n",
    "You and your partner must share each other's Assignment 1 submission. (Zekiye)"
   ]
  },
  {
   "cell_type": "markdown",
   "metadata": {},
   "source": [
    "\n",
    "## Part 2:\n",
    "\n",
    "Create a Jupyter Notebook, create 6 of the following headings, and complete the following for your partner's assignment 1:\n",
    "\n",
    "-   Paraphrase the problem in your own words.\n"
   ]
  },
  {
   "cell_type": "code",
   "execution_count": null,
   "metadata": {},
   "outputs": [],
   "source": [
    "# Your answer here\n",
    "Given a list containing n integers that each fall within the range [0, n], the goal is to identify which\n",
    "numbers within this range are missing from the list and return them as a list. If all numbers in the range are present (i.e., no numbers are missing), \n",
    "return -1 instead. Note that the list may contain duplicate numbers, but this does not \n",
    "affect the task of identifying the missing ones. For example, if the input \n",
    "list is [0, 2], the output should be [1], as 1 is missing in the range; \n",
    "for [5, 0, 1], the output should be [2, 3, 4], since those numbers are absent; and for [6, 8, 2, 3, 5, 7, 0, 1, 10], the output would be [4, 9].\n"
   ]
  },
  {
   "cell_type": "markdown",
   "metadata": {},
   "source": [
    "\n",
    "-   Create 1 new example that demonstrates you understand the problem. Trace/walkthrough 1 example that your partner made and explain it.\n"
   ]
  },
  {
   "cell_type": "code",
   "execution_count": null,
   "metadata": {},
   "outputs": [],
   "source": [
    "# Your answer here\n",
    "new example\n",
    "Input: lst = [0, 1, 2, 3]\n",
    "Range: [0, 3] (since n = 3, the range is [0, 1, 2, 3])\n",
    "Missing Numbers: None, as all numbers are present.\n",
    "Output: -1\n",
    "\n",
    "partner example explain :\n",
    "In the list nums = [4, 3, 2, 7, 8, 2, 3, 1], the range is [0, 8] (since the max number is 8). \n",
    "The unique numbers present are [1, 2, 3, 4, 7, 8]. \n",
    "The missing numbers from the range are [0, 5, 6], \n",
    "which gives the expected output: [0, 5, 6].\n",
    "\n",
    "\n",
    "\n"
   ]
  },
  {
   "cell_type": "markdown",
   "metadata": {},
   "source": [
    "\n",
    "-   Copy the solution your partner wrote. \n"
   ]
  },
  {
   "cell_type": "code",
   "execution_count": null,
   "metadata": {},
   "outputs": [],
   "source": [
    "# Your answer \n",
    "def missing_num(nums: list[int]) -> int:\n",
    "  # TODO\n",
    "\n",
    "#  Given an array nums containing n distinct numbers in the range [0, n],\n",
    "#  return the only number in the range that is missing from the array.\n",
    "\n",
    "    # Step 1: Mark each number's corresponding index as negative\n",
    "    for num in nums:\n",
    "        index = abs(num) \n",
    "        if index < len(nums):\n",
    "            nums[index] = -abs(nums[index])\n",
    "\n",
    "    # Step 2: Find indexes with positive numbers, which correspond to missing numbers\n",
    "    missing_numbers = [i for i in range(len(nums)) if nums[i] > 0]\n",
    "\n",
    "    if len(missing_numbers)==0:\n",
    "        return -1\n",
    "    else:\n",
    "        return missing_numbers\n",
    "\n",
    "# Example usage\n",
    "nums = [3, 7, 1, 2, 8, 2, 3, 0]\n",
    "print(missing_num(nums))  # Example output might depend on the array length"
   ]
  },
  {
   "cell_type": "markdown",
   "metadata": {},
   "source": [
    "\n",
    "-   Explain why their solution works in your own words.\n"
   ]
  },
  {
   "cell_type": "code",
   "execution_count": null,
   "metadata": {},
   "outputs": [],
   "source": [
    "# Your answer hereThe function works by marking each index of the array as negative based on the absolute value of each number. After this marking, the first index with a positive value indicates the missing number (since that index wasn't visited). If all numbers are present, the function returns -1.\n",
    "\n",
    "For each number in the array, mark its corresponding index as negative.\n",
    "Find the first index that has a positive value, which is the missing number.\n",
    "If no index has a positive value, return -1.\n",
    "Example:\n",
    "For nums = [3, 7, 1, 2, 8, 2, 3, 0], the missing number is 4, so the function returns 4.\n",
    "\n"
   ]
  },
  {
   "cell_type": "markdown",
   "metadata": {},
   "source": [
    "\n",
    "-   Explain the problem’s time and space complexity in your own words.\n"
   ]
  },
  {
   "cell_type": "code",
   "execution_count": null,
   "metadata": {},
   "outputs": [],
   "source": [
    "# Your answer here\n",
    "Time Complexity: O(n)\n",
    "The function iterates through the list twice—once to mark indices and once to find the missing number. Since both loops run over the entire list, the time complexity is O(n), where n is the number of elements in the list.\n",
    "\n",
    "Space Complexity: O(1)\n",
    "The function modifies the input list nums in place without using any extra data structures (other than a few variables). Therefore, the space complexity is O(1), meaning it uses constant space regardless of the input size."
   ]
  },
  {
   "cell_type": "markdown",
   "metadata": {},
   "source": [
    "\n",
    "-   Critique your partner's solution, including explanation, and if there is anything that should be adjusted.\n"
   ]
  },
  {
   "cell_type": "code",
   "execution_count": null,
   "metadata": {},
   "outputs": [],
   "source": [
    "If the list is empty, return [0] because 0 is the only missing number.\n",
    "this is one way to handle edge cases \n"
   ]
  },
  {
   "cell_type": "markdown",
   "metadata": {},
   "source": [
    "\n",
    "## Part 3:\n",
    "\n",
    "Please write a 200 word reflection documenting your process from assignment 1, and your presentation and review experience with your partner at the bottom of the Jupyter Notebook under a new heading \"Reflection.\" Again, export this Notebook as pdf.\n"
   ]
  },
  {
   "cell_type": "markdown",
   "metadata": {},
   "source": [
    "### Reflection"
   ]
  },
  {
   "cell_type": "code",
   "execution_count": null,
   "metadata": {},
   "outputs": [],
   "source": [
    "# Your answer here\n",
    "In Assignment 1, I approached the problem by breaking down the requirements and identifying the key operations for each task. Starting with function definitions and type hints helped clarify each function’s role. I ran initial tests to validate basic functionality and adjusted the logic as necessary to handle edge cases. Working iteratively, I incorporated feedback from early test results to ensure the code met the assignment criteria.\n",
    "\n",
    "During the presentation, I explained my code’s approach and logic to my partner, highlighting areas where I encountered challenges and how I resolved them. This process of explaining decisions allowed me to better understand my code's strengths and areas that could benefit from additional optimization. Reviewing my partner's code provided valuable insights into alternative approaches and common issues, which helped me improve my own debugging skills.\n",
    "\n",
    "The feedback exchange with my partner was constructive. I was able to spot an error in their initial solution regarding missing number detection, and they helped me see possible improvements in my code structure. Overall, the collaborative process deepened my understanding of the assignment, enhanced my problem-solving skills, and fostered a supportive learning environment that made tackling the assignment more manageable and rewarding."
   ]
  },
  {
   "cell_type": "markdown",
   "metadata": {},
   "source": [
    "\n",
    "## Evaluation Criteria\n",
    "\n",
    "We are looking for the similar points as Assignment 1\n",
    "\n",
    "-   Problem is accurately stated\n",
    "\n",
    "-   New example is correct and easily understandable\n",
    "\n",
    "-   Correctness, time, and space complexity of the coding solution\n",
    "\n",
    "-   Clarity in explaining why the solution works, its time and space complexity\n",
    "\n",
    "-   Quality of critique of your partner's assignment, if necessary\n"
   ]
  },
  {
   "cell_type": "markdown",
   "metadata": {},
   "source": [
    "## Submission Information\n",
    "\n",
    "🚨 **Please review our [Assignment Submission Guide](https://github.com/UofT-DSI/onboarding/blob/main/onboarding_documents/submissions.md)** 🚨 for detailed instructions on how to format, branch, and submit your work. Following these guidelines is crucial for your submissions to be evaluated correctly.\n",
    "\n",
    "### Submission Parameters:\n",
    "* Submission Due Date: `HH:MM AM/PM - DD/MM/YYYY`\n",
    "* The branch name for your repo should be: `assignment-2`\n",
    "* What to submit for this assignment:\n",
    "    * This Jupyter Notebook (assignment_2.ipynb) should be populated and should be the only change in your pull request.\n",
    "* What the pull request link should look like for this assignment: `https://github.com/<your_github_username>/algorithms_and_data_structures/pull/<pr_id>`\n",
    "    * Open a private window in your browser. Copy and paste the link to your pull request into the address bar. Make sure you can see your pull request properly. This helps the technical facilitator and learning support staff review your submission easily.\n",
    "\n",
    "Checklist:\n",
    "- [ ] Created a branch with the correct naming convention.\n",
    "- [ ] Ensured that the repository is public.\n",
    "- [ ] Reviewed the PR description guidelines and adhered to them.\n",
    "- [ ] Verify that the link is accessible in a private browser window.\n",
    "\n",
    "If you encounter any difficulties or have questions, please don't hesitate to reach out to our team via our Slack at `#cohort-3-help`. Our Technical Facilitators and Learning Support staff are here to help you navigate any challenges.\n"
   ]
  }
 ],
 "metadata": {
  "language_info": {
   "name": "python"
  }
 },
 "nbformat": 4,
 "nbformat_minor": 2
}
